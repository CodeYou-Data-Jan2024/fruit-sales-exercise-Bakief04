{
 "cells": [
  {
   "cell_type": "code",
   "execution_count": 1,
   "id": "ea63cf4c",
   "metadata": {},
   "outputs": [],
   "source": [
    "import pandas as pd"
   ]
  },
  {
   "cell_type": "code",
   "execution_count": 2,
   "id": "807eaad4",
   "metadata": {},
   "outputs": [],
   "source": [
    "data = [{'Apples': 35, 'Bananas': 21}, {'Apples': 41, 'Bananas': 34}]"
   ]
  },
  {
   "cell_type": "code",
   "execution_count": 4,
   "id": "10091521",
   "metadata": {},
   "outputs": [],
   "source": [
    "df = pd.DataFrame(data, index =[\"2017 Sales\", \"2018 Sales\"])"
   ]
  },
  {
   "cell_type": "code",
   "execution_count": 5,
   "id": "8a141329",
   "metadata": {},
   "outputs": [
    {
     "name": "stdout",
     "output_type": "stream",
     "text": [
      "            Apples  Bananas\n",
      "2017 Sales      35       21\n",
      "2018 Sales      41       34\n"
     ]
    }
   ],
   "source": [
    "print(df)"
   ]
  },
  {
   "cell_type": "code",
   "execution_count": 6,
   "id": "d07d6167",
   "metadata": {},
   "outputs": [],
   "source": [
    "df.to_csv('fruit.csv')"
   ]
  },
  {
   "cell_type": "code",
   "execution_count": null,
   "id": "a157e64e",
   "metadata": {},
   "outputs": [],
   "source": []
  }
 ],
 "metadata": {
  "kernelspec": {
   "display_name": "Python 3 (ipykernel)",
   "language": "python",
   "name": "python3"
  },
  "language_info": {
   "codemirror_mode": {
    "name": "ipython",
    "version": 3
   },
   "file_extension": ".py",
   "mimetype": "text/x-python",
   "name": "python",
   "nbconvert_exporter": "python",
   "pygments_lexer": "ipython3",
   "version": "3.10.9"
  }
 },
 "nbformat": 4,
 "nbformat_minor": 5
}
